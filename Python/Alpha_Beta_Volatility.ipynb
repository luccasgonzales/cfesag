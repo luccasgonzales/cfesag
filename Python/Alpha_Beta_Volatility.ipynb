{
 "cells": [
  {
   "cell_type": "markdown",
   "metadata": {},
   "source": [
    "## Calculating Stock Beta, Volatility, and More\n",
    "#### http://gouthamanbalaraman.com/blog/calculating-stock-beta.html\n"
   ]
  },
  {
   "cell_type": "code",
   "execution_count": 10,
   "metadata": {},
   "outputs": [],
   "source": [
    "from pandas_datareader import data as wb\n",
    "import datetime as dt\n",
    "import numpy as np\n",
    "import pandas as pd"
   ]
  },
  {
   "cell_type": "code",
   "execution_count": 11,
   "metadata": {},
   "outputs": [],
   "source": [
    "# Grab time series data for 5-year history for the stock (here AAPL)\n",
    "# and for S&P-500 Index\n",
    "\n",
    "sdate = dt.datetime(2008, 12, 30)\n",
    "edate = dt.datetime(2013, 12, 30)\n",
    "\n",
    "\n",
    "acao1 = 'BRFS3.SA'\n",
    "acao2 = 'WEGE3.SA'\n",
    "acao3 = 'LAME4.SA'\n",
    "indx = '^BVSP'\n",
    "\n",
    "df = wb.DataReader(acao1, data_source = 'yahoo',start = sdate,end = edate)\n",
    "dfb = wb.DataReader(indx, data_source = 'yahoo',start = sdate,end = edate)"
   ]
  },
  {
   "cell_type": "code",
   "execution_count": 12,
   "metadata": {},
   "outputs": [
    {
     "data": {
      "text/html": [
       "<div>\n",
       "<style scoped>\n",
       "    .dataframe tbody tr th:only-of-type {\n",
       "        vertical-align: middle;\n",
       "    }\n",
       "\n",
       "    .dataframe tbody tr th {\n",
       "        vertical-align: top;\n",
       "    }\n",
       "\n",
       "    .dataframe thead th {\n",
       "        text-align: right;\n",
       "    }\n",
       "</style>\n",
       "<table border=\"1\" class=\"dataframe\">\n",
       "  <thead>\n",
       "    <tr style=\"text-align: right;\">\n",
       "      <th></th>\n",
       "      <th>High</th>\n",
       "      <th>Low</th>\n",
       "      <th>Open</th>\n",
       "      <th>Close</th>\n",
       "      <th>Volume</th>\n",
       "      <th>Adj Close</th>\n",
       "    </tr>\n",
       "    <tr>\n",
       "      <th>Date</th>\n",
       "      <th></th>\n",
       "      <th></th>\n",
       "      <th></th>\n",
       "      <th></th>\n",
       "      <th></th>\n",
       "      <th></th>\n",
       "    </tr>\n",
       "  </thead>\n",
       "  <tbody>\n",
       "    <tr>\n",
       "      <th>2008-12-30</th>\n",
       "      <td>15.45</td>\n",
       "      <td>14.87</td>\n",
       "      <td>15.275</td>\n",
       "      <td>14.87</td>\n",
       "      <td>1401600.0</td>\n",
       "      <td>13.783742</td>\n",
       "    </tr>\n",
       "    <tr>\n",
       "      <th>2008-12-31</th>\n",
       "      <td>NaN</td>\n",
       "      <td>NaN</td>\n",
       "      <td>NaN</td>\n",
       "      <td>NaN</td>\n",
       "      <td>NaN</td>\n",
       "      <td>NaN</td>\n",
       "    </tr>\n",
       "    <tr>\n",
       "      <th>2009-01-01</th>\n",
       "      <td>NaN</td>\n",
       "      <td>NaN</td>\n",
       "      <td>NaN</td>\n",
       "      <td>NaN</td>\n",
       "      <td>NaN</td>\n",
       "      <td>NaN</td>\n",
       "    </tr>\n",
       "  </tbody>\n",
       "</table>\n",
       "</div>"
      ],
      "text/plain": [
       "             High    Low    Open  Close     Volume  Adj Close\n",
       "Date                                                         \n",
       "2008-12-30  15.45  14.87  15.275  14.87  1401600.0  13.783742\n",
       "2008-12-31    NaN    NaN     NaN    NaN        NaN        NaN\n",
       "2009-01-01    NaN    NaN     NaN    NaN        NaN        NaN"
      ]
     },
     "execution_count": 12,
     "metadata": {},
     "output_type": "execute_result"
    }
   ],
   "source": [
    "# create a time-series of monthly data points\n",
    "rts = df.resample('D').last()\n",
    "rbts = dfb.resample('D').last()\n",
    "dfsm = pd.DataFrame({'s_adjclose' : rts['Adj Close'],\n",
    "                        'b_adjclose' : rbts['Adj Close']},\n",
    "                        index=rts.index)\n",
    "rts.head(3)"
   ]
  },
  {
   "cell_type": "code",
   "execution_count": 14,
   "metadata": {},
   "outputs": [
    {
     "data": {
      "text/plain": [
       "array([[0.00045847, 0.00014177],\n",
       "       [0.00014177, 0.00027877]])"
      ]
     },
     "execution_count": 14,
     "metadata": {},
     "output_type": "execute_result"
    }
   ],
   "source": [
    "# compute returns\n",
    "dfsm[['s_returns','b_returns']] = dfsm[['s_adjclose','b_adjclose']]/\\\n",
    "    dfsm[['s_adjclose','b_adjclose']].shift(1) -1\n",
    "dfsm = dfsm.dropna()\n",
    "covmat = np.cov(dfsm[\"s_returns\"],dfsm[\"b_returns\"])\n",
    "#dfsm.head()\n",
    "covmat"
   ]
  },
  {
   "cell_type": "code",
   "execution_count": 5,
   "metadata": {},
   "outputs": [],
   "source": [
    "# calculate measures now\n",
    "beta = covmat[0,1]/covmat[1,1]\n",
    "alpha = np.mean(dfsm[\"s_returns\"])-beta*np.mean(dfsm[\"b_returns\"])"
   ]
  },
  {
   "cell_type": "code",
   "execution_count": 6,
   "metadata": {},
   "outputs": [],
   "source": [
    "# r_squared     = 1. - SS_res/SS_tot\n",
    "ypred = alpha + beta * dfsm[\"b_returns\"]\n",
    "SS_res = np.sum(np.power(ypred-dfsm[\"s_returns\"],2))\n",
    "SS_tot = covmat[0,0]*(len(dfsm)-1) # SS_tot is sample_variance*(n-1)\n",
    "r_squared = 1. - SS_res/SS_tot"
   ]
  },
  {
   "cell_type": "code",
   "execution_count": 7,
   "metadata": {},
   "outputs": [],
   "source": [
    "# 5- year volatiity and 1-year momentum\n",
    "volatility = np.sqrt(covmat[0,0])\n",
    "momentum = np.prod(1+dfsm[\"s_returns\"].tail(250).values) -1"
   ]
  },
  {
   "cell_type": "code",
   "execution_count": 8,
   "metadata": {},
   "outputs": [
    {
     "name": "stdout",
     "output_type": "stream",
     "text": [
      "0.5407447557168445 0.33371051083091546 0.1713418355110311 0.30410089713256017 0.4116868013603643\n"
     ]
    }
   ],
   "source": [
    "# annualize the numbers\n",
    "prd = 250. # used monthly returns; 12 periods to annualize\n",
    "alpha = alpha*prd\n",
    "volatility = volatility*np.sqrt(prd)\n",
    "\n",
    "print (beta,alpha, r_squared, volatility, momentum)"
   ]
  },
  {
   "cell_type": "code",
   "execution_count": null,
   "metadata": {},
   "outputs": [],
   "source": []
  },
  {
   "cell_type": "code",
   "execution_count": null,
   "metadata": {},
   "outputs": [],
   "source": []
  }
 ],
 "metadata": {
  "file_extension": ".py",
  "kernelspec": {
   "display_name": "Python 3.7.3 64-bit ('base': conda)",
   "language": "python",
   "name": "python37364bitbaseconda435c83b3752546a6ba720845c41f0401"
  },
  "language_info": {
   "codemirror_mode": {
    "name": "ipython",
    "version": 3
   },
   "file_extension": ".py",
   "mimetype": "text/x-python",
   "name": "python",
   "nbconvert_exporter": "python",
   "pygments_lexer": "ipython3",
   "version": "3.7.3"
  },
  "mimetype": "text/x-python",
  "name": "python",
  "npconvert_exporter": "python",
  "pygments_lexer": "ipython3",
  "version": 3
 },
 "nbformat": 4,
 "nbformat_minor": 2
}
