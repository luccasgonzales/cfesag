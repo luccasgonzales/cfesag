{
 "cells": [
  {
   "cell_type": "markdown",
   "metadata": {},
   "source": [
    "## Assessing the riskiness of a single stock in Python\n",
    "#### https://medium.com/python-data/assessing-the-riskiness-of-a-single-stock-in-python-12f2c5bb85b2\n",
    "\n",
    "## Assessing the riskiness of a portfolio with Python\n",
    "#### https://medium.com/python-data/assessing-the-riskiness-of-a-portfolio-with-python-6444c727c474\n",
    "\n",
    "\n",
    "## Assessing Risks and Return with Probabilities of Events with Python\n",
    "#### https://medium.com/python-data/assessing-risks-and-return-with-probabilities-of-events-with-python-c564d9be4db4\n"
   ]
  },
  {
   "cell_type": "code",
   "execution_count": 1,
   "metadata": {},
   "outputs": [],
   "source": [
    "# Import needed libraries\n",
    "\n",
    "import pandas as pd\n",
    "import numpy as np\n",
    "from pandas_datareader import data as web\n",
    "import matplotlib.pyplot as plt\n",
    "from datetime import datetime\n",
    "%matplotlib inline"
   ]
  },
  {
   "cell_type": "code",
   "execution_count": 2,
   "metadata": {},
   "outputs": [],
   "source": [
    "# Specify starting and end periods with Datetime\n",
    "\n",
    "start = datetime(2016,1,1)\n",
    "end = datetime(2017,1,1)"
   ]
  },
  {
   "cell_type": "code",
   "execution_count": 3,
   "metadata": {},
   "outputs": [
    {
     "data": {
      "text/html": [
       "<div>\n",
       "<style scoped>\n",
       "    .dataframe tbody tr th:only-of-type {\n",
       "        vertical-align: middle;\n",
       "    }\n",
       "\n",
       "    .dataframe tbody tr th {\n",
       "        vertical-align: top;\n",
       "    }\n",
       "\n",
       "    .dataframe thead th {\n",
       "        text-align: right;\n",
       "    }\n",
       "</style>\n",
       "<table border=\"1\" class=\"dataframe\">\n",
       "  <thead>\n",
       "    <tr style=\"text-align: right;\">\n",
       "      <th></th>\n",
       "      <th>High</th>\n",
       "      <th>Low</th>\n",
       "      <th>Open</th>\n",
       "      <th>Close</th>\n",
       "      <th>Volume</th>\n",
       "      <th>Adj Close</th>\n",
       "    </tr>\n",
       "    <tr>\n",
       "      <th>Date</th>\n",
       "      <th></th>\n",
       "      <th></th>\n",
       "      <th></th>\n",
       "      <th></th>\n",
       "      <th></th>\n",
       "      <th></th>\n",
       "    </tr>\n",
       "  </thead>\n",
       "  <tbody>\n",
       "    <tr>\n",
       "      <th>2016-01-04</th>\n",
       "      <td>105.370003</td>\n",
       "      <td>102.000000</td>\n",
       "      <td>102.610001</td>\n",
       "      <td>105.349998</td>\n",
       "      <td>67649400.0</td>\n",
       "      <td>98.213585</td>\n",
       "    </tr>\n",
       "    <tr>\n",
       "      <th>2016-01-05</th>\n",
       "      <td>105.849998</td>\n",
       "      <td>102.410004</td>\n",
       "      <td>105.750000</td>\n",
       "      <td>102.709999</td>\n",
       "      <td>55791000.0</td>\n",
       "      <td>95.752419</td>\n",
       "    </tr>\n",
       "    <tr>\n",
       "      <th>2016-01-06</th>\n",
       "      <td>102.370003</td>\n",
       "      <td>99.870003</td>\n",
       "      <td>100.559998</td>\n",
       "      <td>100.699997</td>\n",
       "      <td>68457400.0</td>\n",
       "      <td>93.878586</td>\n",
       "    </tr>\n",
       "    <tr>\n",
       "      <th>2016-01-07</th>\n",
       "      <td>100.129997</td>\n",
       "      <td>96.430000</td>\n",
       "      <td>98.680000</td>\n",
       "      <td>96.449997</td>\n",
       "      <td>81094400.0</td>\n",
       "      <td>89.916473</td>\n",
       "    </tr>\n",
       "    <tr>\n",
       "      <th>2016-01-08</th>\n",
       "      <td>99.110001</td>\n",
       "      <td>96.760002</td>\n",
       "      <td>98.550003</td>\n",
       "      <td>96.959999</td>\n",
       "      <td>70798000.0</td>\n",
       "      <td>90.391907</td>\n",
       "    </tr>\n",
       "  </tbody>\n",
       "</table>\n",
       "</div>"
      ],
      "text/plain": [
       "                  High         Low        Open       Close      Volume  \\\n",
       "Date                                                                     \n",
       "2016-01-04  105.370003  102.000000  102.610001  105.349998  67649400.0   \n",
       "2016-01-05  105.849998  102.410004  105.750000  102.709999  55791000.0   \n",
       "2016-01-06  102.370003   99.870003  100.559998  100.699997  68457400.0   \n",
       "2016-01-07  100.129997   96.430000   98.680000   96.449997  81094400.0   \n",
       "2016-01-08   99.110001   96.760002   98.550003   96.959999  70798000.0   \n",
       "\n",
       "            Adj Close  \n",
       "Date                   \n",
       "2016-01-04  98.213585  \n",
       "2016-01-05  95.752419  \n",
       "2016-01-06  93.878586  \n",
       "2016-01-07  89.916473  \n",
       "2016-01-08  90.391907  "
      ]
     },
     "execution_count": 3,
     "metadata": {},
     "output_type": "execute_result"
    }
   ],
   "source": [
    "# Get Apple's stock info\n",
    "\n",
    "apple = web.DataReader('AAPL', data_source='yahoo', start=start, end=end)\n",
    "# Check the data\n",
    "\n",
    "apple.head()"
   ]
  },
  {
   "cell_type": "code",
   "execution_count": 4,
   "metadata": {},
   "outputs": [
    {
     "data": {
      "text/plain": [
       "Date\n",
       "2016-01-04    98.213585\n",
       "2016-01-05    95.752419\n",
       "2016-01-06    93.878586\n",
       "2016-01-07    89.916473\n",
       "2016-01-08    90.391907\n",
       "Name: Adj Close, dtype: float64"
      ]
     },
     "execution_count": 4,
     "metadata": {},
     "output_type": "execute_result"
    }
   ],
   "source": [
    "\n",
    "# Slice the Adjusted Closing prices we need \n",
    "\n",
    "aapl_close = apple['Adj Close']\n",
    "aapl_close.head()"
   ]
  },
  {
   "cell_type": "code",
   "execution_count": 5,
   "metadata": {},
   "outputs": [
    {
     "data": {
      "text/plain": [
       "Date\n",
       "2016-01-04         NaN\n",
       "2016-01-05   -0.025059\n",
       "2016-01-06   -0.019570\n",
       "2016-01-07   -0.042205\n",
       "2016-01-08    0.005287\n",
       "Name: Adj Close, dtype: float64"
      ]
     },
     "execution_count": 5,
     "metadata": {},
     "output_type": "execute_result"
    }
   ],
   "source": [
    "\n",
    "# Calculate daily returns \n",
    "\n",
    "daily_returns = aapl_close.pct_change()\n",
    "daily_returns.head()"
   ]
  },
  {
   "cell_type": "code",
   "execution_count": 8,
   "metadata": {},
   "outputs": [
    {
     "data": {
      "image/png": "[encoded data removed]",
      "text/plain": [
       "<Figure size 576x432 with 1 Axes>"
      ]
     },
     "metadata": {
      "needs_background": "light"
     },
     "output_type": "display_data"
    }
   ],
   "source": [
    "daily_returns.hist(bins=50, alpha=0.8, color='blue', figsize=(8,6));"
   ]
  },
  {
   "cell_type": "code",
   "execution_count": 9,
   "metadata": {},
   "outputs": [
    {
     "data": {
      "text/html": [
       "<div>\n",
       "<style scoped>\n",
       "    .dataframe tbody tr th:only-of-type {\n",
       "        vertical-align: middle;\n",
       "    }\n",
       "\n",
       "    .dataframe tbody tr th {\n",
       "        vertical-align: top;\n",
       "    }\n",
       "\n",
       "    .dataframe thead th {\n",
       "        text-align: right;\n",
       "    }\n",
       "</style>\n",
       "<table border=\"1\" class=\"dataframe\">\n",
       "  <thead>\n",
       "    <tr style=\"text-align: right;\">\n",
       "      <th></th>\n",
       "      <th>AAPL</th>\n",
       "      <th>FB</th>\n",
       "      <th>TSLA</th>\n",
       "    </tr>\n",
       "    <tr>\n",
       "      <th>Date</th>\n",
       "      <th></th>\n",
       "      <th></th>\n",
       "      <th></th>\n",
       "    </tr>\n",
       "  </thead>\n",
       "  <tbody>\n",
       "    <tr>\n",
       "      <th>2016-01-04</th>\n",
       "      <td>98.213585</td>\n",
       "      <td>102.220001</td>\n",
       "      <td>223.410004</td>\n",
       "    </tr>\n",
       "    <tr>\n",
       "      <th>2016-01-05</th>\n",
       "      <td>95.752419</td>\n",
       "      <td>102.730003</td>\n",
       "      <td>223.429993</td>\n",
       "    </tr>\n",
       "    <tr>\n",
       "      <th>2016-01-06</th>\n",
       "      <td>93.878586</td>\n",
       "      <td>102.970001</td>\n",
       "      <td>219.039993</td>\n",
       "    </tr>\n",
       "    <tr>\n",
       "      <th>2016-01-07</th>\n",
       "      <td>89.916473</td>\n",
       "      <td>97.919998</td>\n",
       "      <td>215.649994</td>\n",
       "    </tr>\n",
       "    <tr>\n",
       "      <th>2016-01-08</th>\n",
       "      <td>90.391907</td>\n",
       "      <td>97.330002</td>\n",
       "      <td>211.000000</td>\n",
       "    </tr>\n",
       "  </tbody>\n",
       "</table>\n",
       "</div>"
      ],
      "text/plain": [
       "                 AAPL          FB        TSLA\n",
       "Date                                         \n",
       "2016-01-04  98.213585  102.220001  223.410004\n",
       "2016-01-05  95.752419  102.730003  223.429993\n",
       "2016-01-06  93.878586  102.970001  219.039993\n",
       "2016-01-07  89.916473   97.919998  215.649994\n",
       "2016-01-08  90.391907   97.330002  211.000000"
      ]
     },
     "execution_count": 9,
     "metadata": {},
     "output_type": "execute_result"
    }
   ],
   "source": [
    "# Let's have fun by comparing the volatility of three stocks. Pull Ajdusted closing prices for Apple, Fb and Tesla\n",
    "\n",
    "assets = ['AAPL', 'FB', 'TSLA']\n",
    "\n",
    "df = pd.DataFrame()\n",
    "\n",
    "for stock in assets:\n",
    "    df[stock] = web.DataReader(stock, data_source='yahoo', start=start, end=end)['Adj Close']\n",
    "    \n",
    "df.head()"
   ]
  },
  {
   "cell_type": "code",
   "execution_count": 10,
   "metadata": {},
   "outputs": [
    {
     "data": {
      "text/html": [
       "<div>\n",
       "<style scoped>\n",
       "    .dataframe tbody tr th:only-of-type {\n",
       "        vertical-align: middle;\n",
       "    }\n",
       "\n",
       "    .dataframe tbody tr th {\n",
       "        vertical-align: top;\n",
       "    }\n",
       "\n",
       "    .dataframe thead th {\n",
       "        text-align: right;\n",
       "    }\n",
       "</style>\n",
       "<table border=\"1\" class=\"dataframe\">\n",
       "  <thead>\n",
       "    <tr style=\"text-align: right;\">\n",
       "      <th></th>\n",
       "      <th>AAPL</th>\n",
       "      <th>FB</th>\n",
       "      <th>TSLA</th>\n",
       "    </tr>\n",
       "    <tr>\n",
       "      <th>Date</th>\n",
       "      <th></th>\n",
       "      <th></th>\n",
       "      <th></th>\n",
       "    </tr>\n",
       "  </thead>\n",
       "  <tbody>\n",
       "    <tr>\n",
       "      <th>2016-01-04</th>\n",
       "      <td>NaN</td>\n",
       "      <td>NaN</td>\n",
       "      <td>NaN</td>\n",
       "    </tr>\n",
       "    <tr>\n",
       "      <th>2016-01-05</th>\n",
       "      <td>-0.025059</td>\n",
       "      <td>0.004989</td>\n",
       "      <td>0.000089</td>\n",
       "    </tr>\n",
       "    <tr>\n",
       "      <th>2016-01-06</th>\n",
       "      <td>-0.019570</td>\n",
       "      <td>0.002336</td>\n",
       "      <td>-0.019648</td>\n",
       "    </tr>\n",
       "    <tr>\n",
       "      <th>2016-01-07</th>\n",
       "      <td>-0.042205</td>\n",
       "      <td>-0.049043</td>\n",
       "      <td>-0.015477</td>\n",
       "    </tr>\n",
       "    <tr>\n",
       "      <th>2016-01-08</th>\n",
       "      <td>0.005287</td>\n",
       "      <td>-0.006025</td>\n",
       "      <td>-0.021563</td>\n",
       "    </tr>\n",
       "  </tbody>\n",
       "</table>\n",
       "</div>"
      ],
      "text/plain": [
       "                AAPL        FB      TSLA\n",
       "Date                                    \n",
       "2016-01-04       NaN       NaN       NaN\n",
       "2016-01-05 -0.025059  0.004989  0.000089\n",
       "2016-01-06 -0.019570  0.002336 -0.019648\n",
       "2016-01-07 -0.042205 -0.049043 -0.015477\n",
       "2016-01-08  0.005287 -0.006025 -0.021563"
      ]
     },
     "execution_count": 10,
     "metadata": {},
     "output_type": "execute_result"
    }
   ],
   "source": [
    "# Check the daily returns of the three companies\n",
    "\n",
    "asset_returns_daily = df.pct_change()\n",
    "asset_returns_daily.head()"
   ]
  },
  {
   "cell_type": "code",
   "execution_count": 11,
   "metadata": {},
   "outputs": [
    {
     "data": {
      "text/plain": [
       "AAPL    0.014731\n",
       "FB      0.017840\n",
       "TSLA    0.024073\n",
       "dtype: float64"
      ]
     },
     "execution_count": 11,
     "metadata": {},
     "output_type": "execute_result"
    }
   ],
   "source": [
    "\n",
    "# Check the volatility of the daily returns of the three companines\n",
    "\n",
    "asset_volatility_daily = asset_returns_daily.std()\n",
    "asset_volatility_daily"
   ]
  },
  {
   "cell_type": "code",
   "execution_count": 12,
   "metadata": {},
   "outputs": [
    {
     "data": {
      "image/png": "[encoded data removed]",
      "text/plain": [
       "<Figure size 720x432 with 1 Axes>"
      ]
     },
     "metadata": {
      "needs_background": "light"
     },
     "output_type": "display_data"
    }
   ],
   "source": [
    "# Visualise the daily returns of the three companies stacked against each other. Notice the most/least volatile?\n",
    "\n",
    "asset_returns_daily.plot.hist(bins=50, figsize=(10,6));"
   ]
  },
  {
   "cell_type": "code",
   "execution_count": 13,
   "metadata": {},
   "outputs": [
    {
     "data": {
      "text/plain": [
       "0.02407316302480792"
      ]
     },
     "execution_count": 13,
     "metadata": {},
     "output_type": "execute_result"
    }
   ],
   "source": [
    "\n",
    "# As seen in the histogram, Tesla's daily returns are the most volatile with the biggest 'spreads'\n",
    "\n",
    "asset_volatility_daily.max()"
   ]
  },
  {
   "cell_type": "code",
   "execution_count": 14,
   "metadata": {},
   "outputs": [
    {
     "data": {
      "text/plain": [
       "0.01473110901987467"
      ]
     },
     "execution_count": 14,
     "metadata": {},
     "output_type": "execute_result"
    }
   ],
   "source": [
    "# No surprise Apple's daily returns is the least volatile with such a small spread\n",
    "\n",
    "asset_volatility_daily.min()"
   ]
  },
  {
   "cell_type": "code",
   "execution_count": 15,
   "metadata": {},
   "outputs": [
    {
     "data": {
      "image/png": "[encoded data removed]",
      "text/plain": [
       "<Figure size 720x432 with 1 Axes>"
      ]
     },
     "metadata": {
      "needs_background": "light"
     },
     "output_type": "display_data"
    }
   ],
   "source": [
    "import pandas as pd\n",
    "from pandas_datareader import data as web\n",
    "import matplotlib.pyplot as plt\n",
    "from datetime import datetime\n",
    "\n",
    "start = datetime(2016,1,1)\n",
    "end = datetime(2017,1,1)\n",
    "\n",
    "assets = ['AAPL', 'FB', 'TSLA']\n",
    "\n",
    "df = pd.DataFrame()\n",
    "\n",
    "for stock in assets:\n",
    "    df[stock] = web.DataReader(stock, data_source='yahoo', start=start, end=end)['Adj Close']\n",
    "\n",
    "asset_returns_daily = df.pct_change()\n",
    "asset_volatility_daily = asset_returns_daily.std()\n",
    "\n",
    "asset_returns_daily.plot.hist(bins=50, figsize=(10,6));\n",
    "plt.xlabel('Daily Returns')\n",
    "plt.show()"
   ]
  },
  {
   "cell_type": "markdown",
   "metadata": {},
   "source": [
    "### Assessing the riskiness of a portfolio with Python"
   ]
  },
  {
   "cell_type": "code",
   "execution_count": 19,
   "metadata": {},
   "outputs": [],
   "source": [
    "# Import the Python's number crunchers\n",
    "\n",
    "from pandas_datareader import data as web\n",
    "import pandas as pd\n",
    "import numpy as np\n",
    "import matplotlib.pyplot as plt\n",
    "%matplotlib inline"
   ]
  },
  {
   "cell_type": "code",
   "execution_count": 20,
   "metadata": {},
   "outputs": [
    {
     "data": {
      "text/html": [
       "<div>\n",
       "<style scoped>\n",
       "    .dataframe tbody tr th:only-of-type {\n",
       "        vertical-align: middle;\n",
       "    }\n",
       "\n",
       "    .dataframe tbody tr th {\n",
       "        vertical-align: top;\n",
       "    }\n",
       "\n",
       "    .dataframe thead th {\n",
       "        text-align: right;\n",
       "    }\n",
       "</style>\n",
       "<table border=\"1\" class=\"dataframe\">\n",
       "  <thead>\n",
       "    <tr style=\"text-align: right;\">\n",
       "      <th></th>\n",
       "      <th>AAPL</th>\n",
       "      <th>GM</th>\n",
       "      <th>GE</th>\n",
       "      <th>FB</th>\n",
       "      <th>WMT</th>\n",
       "    </tr>\n",
       "    <tr>\n",
       "      <th>Date</th>\n",
       "      <th></th>\n",
       "      <th></th>\n",
       "      <th></th>\n",
       "      <th></th>\n",
       "      <th></th>\n",
       "    </tr>\n",
       "  </thead>\n",
       "  <tbody>\n",
       "    <tr>\n",
       "      <th>2015-01-02</th>\n",
       "      <td>100.216454</td>\n",
       "      <td>27.594938</td>\n",
       "      <td>20.705494</td>\n",
       "      <td>78.449997</td>\n",
       "      <td>75.466400</td>\n",
       "    </tr>\n",
       "    <tr>\n",
       "      <th>2015-01-05</th>\n",
       "      <td>97.393181</td>\n",
       "      <td>27.190994</td>\n",
       "      <td>20.325430</td>\n",
       "      <td>77.190002</td>\n",
       "      <td>75.246773</td>\n",
       "    </tr>\n",
       "    <tr>\n",
       "      <th>2015-01-06</th>\n",
       "      <td>97.402374</td>\n",
       "      <td>27.602859</td>\n",
       "      <td>19.887522</td>\n",
       "      <td>76.150002</td>\n",
       "      <td>75.826607</td>\n",
       "    </tr>\n",
       "    <tr>\n",
       "      <th>2015-01-07</th>\n",
       "      <td>98.768150</td>\n",
       "      <td>28.386992</td>\n",
       "      <td>19.895788</td>\n",
       "      <td>76.150002</td>\n",
       "      <td>77.838448</td>\n",
       "    </tr>\n",
       "    <tr>\n",
       "      <th>2015-01-08</th>\n",
       "      <td>102.563072</td>\n",
       "      <td>28.672125</td>\n",
       "      <td>20.135393</td>\n",
       "      <td>78.180000</td>\n",
       "      <td>79.481316</td>\n",
       "    </tr>\n",
       "  </tbody>\n",
       "</table>\n",
       "</div>"
      ],
      "text/plain": [
       "                  AAPL         GM         GE         FB        WMT\n",
       "Date                                                              \n",
       "2015-01-02  100.216454  27.594938  20.705494  78.449997  75.466400\n",
       "2015-01-05   97.393181  27.190994  20.325430  77.190002  75.246773\n",
       "2015-01-06   97.402374  27.602859  19.887522  76.150002  75.826607\n",
       "2015-01-07   98.768150  28.386992  19.895788  76.150002  77.838448\n",
       "2015-01-08  102.563072  28.672125  20.135393  78.180000  79.481316"
      ]
     },
     "execution_count": 20,
     "metadata": {},
     "output_type": "execute_result"
    }
   ],
   "source": [
    "# Pull Adjusted closing prices for the portfolio (consisting of 5 stocks) we want to construct\n",
    "\n",
    "assets =  ['AAPL', 'GM', 'GE', 'FB', 'WMT']\n",
    "\n",
    "df = pd.DataFrame()\n",
    "\n",
    "for stock in assets:\n",
    "    df[stock] = web.DataReader(stock, data_source='yahoo',start='2015-1-1' ,end='2017-1-1')['Adj Close']\n",
    "    \n",
    "df.head()"
   ]
  },
  {
   "cell_type": "code",
   "execution_count": 21,
   "metadata": {},
   "outputs": [
    {
     "data": {
      "text/html": [
       "<div>\n",
       "<style scoped>\n",
       "    .dataframe tbody tr th:only-of-type {\n",
       "        vertical-align: middle;\n",
       "    }\n",
       "\n",
       "    .dataframe tbody tr th {\n",
       "        vertical-align: top;\n",
       "    }\n",
       "\n",
       "    .dataframe thead th {\n",
       "        text-align: right;\n",
       "    }\n",
       "</style>\n",
       "<table border=\"1\" class=\"dataframe\">\n",
       "  <thead>\n",
       "    <tr style=\"text-align: right;\">\n",
       "      <th></th>\n",
       "      <th>AAPL</th>\n",
       "      <th>GM</th>\n",
       "      <th>GE</th>\n",
       "      <th>FB</th>\n",
       "      <th>WMT</th>\n",
       "    </tr>\n",
       "    <tr>\n",
       "      <th>Date</th>\n",
       "      <th></th>\n",
       "      <th></th>\n",
       "      <th></th>\n",
       "      <th></th>\n",
       "      <th></th>\n",
       "    </tr>\n",
       "  </thead>\n",
       "  <tbody>\n",
       "    <tr>\n",
       "      <th>2015-01-02</th>\n",
       "      <td>NaN</td>\n",
       "      <td>NaN</td>\n",
       "      <td>NaN</td>\n",
       "      <td>NaN</td>\n",
       "      <td>NaN</td>\n",
       "    </tr>\n",
       "    <tr>\n",
       "      <th>2015-01-05</th>\n",
       "      <td>-0.028172</td>\n",
       "      <td>-0.014638</td>\n",
       "      <td>-0.018356</td>\n",
       "      <td>-0.016061</td>\n",
       "      <td>-0.002910</td>\n",
       "    </tr>\n",
       "    <tr>\n",
       "      <th>2015-01-06</th>\n",
       "      <td>0.000094</td>\n",
       "      <td>0.015147</td>\n",
       "      <td>-0.021545</td>\n",
       "      <td>-0.013473</td>\n",
       "      <td>0.007706</td>\n",
       "    </tr>\n",
       "    <tr>\n",
       "      <th>2015-01-07</th>\n",
       "      <td>0.014022</td>\n",
       "      <td>0.028408</td>\n",
       "      <td>0.000416</td>\n",
       "      <td>0.000000</td>\n",
       "      <td>0.026532</td>\n",
       "    </tr>\n",
       "    <tr>\n",
       "      <th>2015-01-08</th>\n",
       "      <td>0.038423</td>\n",
       "      <td>0.010045</td>\n",
       "      <td>0.012043</td>\n",
       "      <td>0.026658</td>\n",
       "      <td>0.021106</td>\n",
       "    </tr>\n",
       "  </tbody>\n",
       "</table>\n",
       "</div>"
      ],
      "text/plain": [
       "                AAPL        GM        GE        FB       WMT\n",
       "Date                                                        \n",
       "2015-01-02       NaN       NaN       NaN       NaN       NaN\n",
       "2015-01-05 -0.028172 -0.014638 -0.018356 -0.016061 -0.002910\n",
       "2015-01-06  0.000094  0.015147 -0.021545 -0.013473  0.007706\n",
       "2015-01-07  0.014022  0.028408  0.000416  0.000000  0.026532\n",
       "2015-01-08  0.038423  0.010045  0.012043  0.026658  0.021106"
      ]
     },
     "execution_count": 21,
     "metadata": {},
     "output_type": "execute_result"
    }
   ],
   "source": [
    "# Check the daily returns\n",
    "\n",
    "d_returns = df.pct_change()\n",
    "d_returns.head()"
   ]
  },
  {
   "cell_type": "code",
   "execution_count": 24,
   "metadata": {},
   "outputs": [
    {
     "data": {
      "text/html": [
       "<div>\n",
       "<style scoped>\n",
       "    .dataframe tbody tr th:only-of-type {\n",
       "        vertical-align: middle;\n",
       "    }\n",
       "\n",
       "    .dataframe tbody tr th {\n",
       "        vertical-align: top;\n",
       "    }\n",
       "\n",
       "    .dataframe thead th {\n",
       "        text-align: right;\n",
       "    }\n",
       "</style>\n",
       "<table border=\"1\" class=\"dataframe\">\n",
       "  <thead>\n",
       "    <tr style=\"text-align: right;\">\n",
       "      <th></th>\n",
       "      <th>AAPL</th>\n",
       "      <th>GM</th>\n",
       "      <th>GE</th>\n",
       "      <th>FB</th>\n",
       "      <th>WMT</th>\n",
       "    </tr>\n",
       "  </thead>\n",
       "  <tbody>\n",
       "    <tr>\n",
       "      <th>AAPL</th>\n",
       "      <td>0.062449</td>\n",
       "      <td>0.022449</td>\n",
       "      <td>0.019094</td>\n",
       "      <td>0.030312</td>\n",
       "      <td>0.012588</td>\n",
       "    </tr>\n",
       "    <tr>\n",
       "      <th>GM</th>\n",
       "      <td>0.022449</td>\n",
       "      <td>0.062172</td>\n",
       "      <td>0.024010</td>\n",
       "      <td>0.019870</td>\n",
       "      <td>0.012027</td>\n",
       "    </tr>\n",
       "    <tr>\n",
       "      <th>GE</th>\n",
       "      <td>0.019094</td>\n",
       "      <td>0.024010</td>\n",
       "      <td>0.039146</td>\n",
       "      <td>0.019633</td>\n",
       "      <td>0.012638</td>\n",
       "    </tr>\n",
       "    <tr>\n",
       "      <th>FB</th>\n",
       "      <td>0.030312</td>\n",
       "      <td>0.019870</td>\n",
       "      <td>0.019633</td>\n",
       "      <td>0.072642</td>\n",
       "      <td>0.010714</td>\n",
       "    </tr>\n",
       "    <tr>\n",
       "      <th>WMT</th>\n",
       "      <td>0.012588</td>\n",
       "      <td>0.012027</td>\n",
       "      <td>0.012638</td>\n",
       "      <td>0.010714</td>\n",
       "      <td>0.039801</td>\n",
       "    </tr>\n",
       "  </tbody>\n",
       "</table>\n",
       "</div>"
      ],
      "text/plain": [
       "          AAPL        GM        GE        FB       WMT\n",
       "AAPL  0.062449  0.022449  0.019094  0.030312  0.012588\n",
       "GM    0.022449  0.062172  0.024010  0.019870  0.012027\n",
       "GE    0.019094  0.024010  0.039146  0.019633  0.012638\n",
       "FB    0.030312  0.019870  0.019633  0.072642  0.010714\n",
       "WMT   0.012588  0.012027  0.012638  0.010714  0.039801"
      ]
     },
     "execution_count": 24,
     "metadata": {},
     "output_type": "execute_result"
    }
   ],
   "source": [
    "# Construct a covariance matrix for the portfolio's daily returns with the .cov() method\n",
    "\n",
    "cov_matrix_d = d_returns.cov()\n",
    "\n",
    "# Annualise the daily covariance matrix with the standard 250 trading days\n",
    "\n",
    "cov_matrix_a = cov_matrix_d * 250\n",
    "cov_matrix_a"
   ]
  },
  {
   "cell_type": "code",
   "execution_count": 25,
   "metadata": {},
   "outputs": [
    {
     "data": {
      "text/plain": [
       "array([0.2, 0.2, 0.2, 0.2, 0.2])"
      ]
     },
     "execution_count": 25,
     "metadata": {},
     "output_type": "execute_result"
    }
   ],
   "source": [
    "# Assign equal weights to the five stocks. Weights must = 1 so 0.2 for each \n",
    "\n",
    "weights = np.array([0.2, 0.2, 0.2, 0.2, 0.2])\n",
    "weights"
   ]
  },
  {
   "cell_type": "code",
   "execution_count": 26,
   "metadata": {},
   "outputs": [
    {
     "data": {
      "text/plain": [
       "0.025715066301238123"
      ]
     },
     "execution_count": 26,
     "metadata": {},
     "output_type": "execute_result"
    }
   ],
   "source": [
    "# Calculate the variance with the formula\n",
    "\n",
    "port_variance = np.dot(weights.T, np.dot(cov_matrix_a, weights))\n",
    "port_variance"
   ]
  },
  {
   "cell_type": "code",
   "execution_count": 27,
   "metadata": {},
   "outputs": [
    {
     "name": "stdout",
     "output_type": "stream",
     "text": [
      "2.5700000000000003%\n"
     ]
    }
   ],
   "source": [
    "# Just converting the variance float into a percentage\n",
    "\n",
    "print(str(round(port_variance, 4) * 100) + '%')"
   ]
  },
  {
   "cell_type": "code",
   "execution_count": 28,
   "metadata": {},
   "outputs": [
    {
     "data": {
      "text/plain": [
       "0.16035917903643096"
      ]
     },
     "execution_count": 28,
     "metadata": {},
     "output_type": "execute_result"
    }
   ],
   "source": [
    "# The standard deviation of a portfolio is just a square root of its variance\n",
    "\n",
    "port_volatility = np.sqrt(np.dot(weights.T, np.dot(cov_matrix_a, weights)))\n",
    "port_volatility"
   ]
  },
  {
   "cell_type": "code",
   "execution_count": 29,
   "metadata": {},
   "outputs": [
    {
     "name": "stdout",
     "output_type": "stream",
     "text": [
      "16.04%\n"
     ]
    }
   ],
   "source": [
    "print(str(round(port_volatility, 4) * 100) + '%')"
   ]
  },
  {
   "cell_type": "code",
   "execution_count": 30,
   "metadata": {},
   "outputs": [
    {
     "data": {
      "text/plain": [
       "0.16035917903643096"
      ]
     },
     "execution_count": 30,
     "metadata": {},
     "output_type": "execute_result"
    }
   ],
   "source": [
    "# Proof that Standard deviation of a portfolio is just a square root of its variance\n",
    "\n",
    "np.dot(weights.T, np.dot(cov_matrix_a, weights)) ** 0.5"
   ]
  },
  {
   "cell_type": "code",
   "execution_count": 31,
   "metadata": {},
   "outputs": [
    {
     "data": {
      "text/plain": [
       "<matplotlib.axes._subplots.AxesSubplot at 0x28572badb00>"
      ]
     },
     "execution_count": 31,
     "metadata": {},
     "output_type": "execute_result"
    },
    {
     "data": {
      "image/png": "[encoded data removed]",
      "text/plain": [
       "<Figure size 1152x576 with 1 Axes>"
      ]
     },
     "metadata": {
      "needs_background": "light"
     },
     "output_type": "display_data"
    }
   ],
   "source": [
    "\n",
    "d_returns.plot(figsize=(16,8))"
   ]
  },
  {
   "cell_type": "code",
   "execution_count": 32,
   "metadata": {},
   "outputs": [
    {
     "data": {
      "text/html": [
       "<div>\n",
       "<style scoped>\n",
       "    .dataframe tbody tr th:only-of-type {\n",
       "        vertical-align: middle;\n",
       "    }\n",
       "\n",
       "    .dataframe tbody tr th {\n",
       "        vertical-align: top;\n",
       "    }\n",
       "\n",
       "    .dataframe thead th {\n",
       "        text-align: right;\n",
       "    }\n",
       "</style>\n",
       "<table border=\"1\" class=\"dataframe\">\n",
       "  <thead>\n",
       "    <tr style=\"text-align: right;\">\n",
       "      <th></th>\n",
       "      <th>AAPL</th>\n",
       "      <th>GM</th>\n",
       "      <th>GE</th>\n",
       "      <th>FB</th>\n",
       "      <th>WMT</th>\n",
       "    </tr>\n",
       "  </thead>\n",
       "  <tbody>\n",
       "    <tr>\n",
       "      <th>count</th>\n",
       "      <td>503.000000</td>\n",
       "      <td>503.000000</td>\n",
       "      <td>503.000000</td>\n",
       "      <td>503.000000</td>\n",
       "      <td>503.000000</td>\n",
       "    </tr>\n",
       "    <tr>\n",
       "      <th>mean</th>\n",
       "      <td>0.000317</td>\n",
       "      <td>0.000301</td>\n",
       "      <td>0.000672</td>\n",
       "      <td>0.000904</td>\n",
       "      <td>-0.000241</td>\n",
       "    </tr>\n",
       "    <tr>\n",
       "      <th>std</th>\n",
       "      <td>0.015805</td>\n",
       "      <td>0.015770</td>\n",
       "      <td>0.012513</td>\n",
       "      <td>0.017046</td>\n",
       "      <td>0.012618</td>\n",
       "    </tr>\n",
       "    <tr>\n",
       "      <th>min</th>\n",
       "      <td>-0.065706</td>\n",
       "      <td>-0.060811</td>\n",
       "      <td>-0.043924</td>\n",
       "      <td>-0.058105</td>\n",
       "      <td>-0.100405</td>\n",
       "    </tr>\n",
       "    <tr>\n",
       "      <th>25%</th>\n",
       "      <td>-0.007169</td>\n",
       "      <td>-0.007759</td>\n",
       "      <td>-0.006040</td>\n",
       "      <td>-0.007638</td>\n",
       "      <td>-0.006160</td>\n",
       "    </tr>\n",
       "    <tr>\n",
       "      <th>50%</th>\n",
       "      <td>0.000401</td>\n",
       "      <td>0.000826</td>\n",
       "      <td>0.000367</td>\n",
       "      <td>0.000866</td>\n",
       "      <td>0.000129</td>\n",
       "    </tr>\n",
       "    <tr>\n",
       "      <th>75%</th>\n",
       "      <td>0.008564</td>\n",
       "      <td>0.008303</td>\n",
       "      <td>0.006559</td>\n",
       "      <td>0.010170</td>\n",
       "      <td>0.006235</td>\n",
       "    </tr>\n",
       "    <tr>\n",
       "      <th>max</th>\n",
       "      <td>0.064963</td>\n",
       "      <td>0.057945</td>\n",
       "      <td>0.108045</td>\n",
       "      <td>0.155214</td>\n",
       "      <td>0.095804</td>\n",
       "    </tr>\n",
       "  </tbody>\n",
       "</table>\n",
       "</div>"
      ],
      "text/plain": [
       "             AAPL          GM          GE          FB         WMT\n",
       "count  503.000000  503.000000  503.000000  503.000000  503.000000\n",
       "mean     0.000317    0.000301    0.000672    0.000904   -0.000241\n",
       "std      0.015805    0.015770    0.012513    0.017046    0.012618\n",
       "min     -0.065706   -0.060811   -0.043924   -0.058105   -0.100405\n",
       "25%     -0.007169   -0.007759   -0.006040   -0.007638   -0.006160\n",
       "50%      0.000401    0.000826    0.000367    0.000866    0.000129\n",
       "75%      0.008564    0.008303    0.006559    0.010170    0.006235\n",
       "max      0.064963    0.057945    0.108045    0.155214    0.095804"
      ]
     },
     "execution_count": 32,
     "metadata": {},
     "output_type": "execute_result"
    }
   ],
   "source": [
    "# basic stats on daily returns\n",
    "\n",
    "d_returns.describe()"
   ]
  },
  {
   "cell_type": "code",
   "execution_count": 33,
   "metadata": {},
   "outputs": [
    {
     "data": {
      "text/html": [
       "<div>\n",
       "<style scoped>\n",
       "    .dataframe tbody tr th:only-of-type {\n",
       "        vertical-align: middle;\n",
       "    }\n",
       "\n",
       "    .dataframe tbody tr th {\n",
       "        vertical-align: top;\n",
       "    }\n",
       "\n",
       "    .dataframe thead th {\n",
       "        text-align: right;\n",
       "    }\n",
       "</style>\n",
       "<table border=\"1\" class=\"dataframe\">\n",
       "  <thead>\n",
       "    <tr style=\"text-align: right;\">\n",
       "      <th></th>\n",
       "      <th>AAPL</th>\n",
       "      <th>GM</th>\n",
       "      <th>GE</th>\n",
       "      <th>FB</th>\n",
       "      <th>WMT</th>\n",
       "    </tr>\n",
       "  </thead>\n",
       "  <tbody>\n",
       "    <tr>\n",
       "      <th>AAPL</th>\n",
       "      <td>1.000000</td>\n",
       "      <td>0.360271</td>\n",
       "      <td>0.386169</td>\n",
       "      <td>0.450047</td>\n",
       "      <td>0.252481</td>\n",
       "    </tr>\n",
       "    <tr>\n",
       "      <th>GM</th>\n",
       "      <td>0.360271</td>\n",
       "      <td>1.000000</td>\n",
       "      <td>0.486691</td>\n",
       "      <td>0.295677</td>\n",
       "      <td>0.241771</td>\n",
       "    </tr>\n",
       "    <tr>\n",
       "      <th>GE</th>\n",
       "      <td>0.386169</td>\n",
       "      <td>0.486691</td>\n",
       "      <td>1.000000</td>\n",
       "      <td>0.368163</td>\n",
       "      <td>0.320161</td>\n",
       "    </tr>\n",
       "    <tr>\n",
       "      <th>FB</th>\n",
       "      <td>0.450047</td>\n",
       "      <td>0.295677</td>\n",
       "      <td>0.368163</td>\n",
       "      <td>1.000000</td>\n",
       "      <td>0.199259</td>\n",
       "    </tr>\n",
       "    <tr>\n",
       "      <th>WMT</th>\n",
       "      <td>0.252481</td>\n",
       "      <td>0.241771</td>\n",
       "      <td>0.320161</td>\n",
       "      <td>0.199259</td>\n",
       "      <td>1.000000</td>\n",
       "    </tr>\n",
       "  </tbody>\n",
       "</table>\n",
       "</div>"
      ],
      "text/plain": [
       "          AAPL        GM        GE        FB       WMT\n",
       "AAPL  1.000000  0.360271  0.386169  0.450047  0.252481\n",
       "GM    0.360271  1.000000  0.486691  0.295677  0.241771\n",
       "GE    0.386169  0.486691  1.000000  0.368163  0.320161\n",
       "FB    0.450047  0.295677  0.368163  1.000000  0.199259\n",
       "WMT   0.252481  0.241771  0.320161  0.199259  1.000000"
      ]
     },
     "execution_count": 33,
     "metadata": {},
     "output_type": "execute_result"
    }
   ],
   "source": [
    "# correlation matrix of daily returns\n",
    "\n",
    "d_returns.corr()"
   ]
  },
  {
   "cell_type": "code",
   "execution_count": 34,
   "metadata": {},
   "outputs": [
    {
     "data": {
      "text/plain": [
       "0.2498988569810756"
      ]
     },
     "execution_count": 34,
     "metadata": {},
     "output_type": "execute_result"
    }
   ],
   "source": [
    "# annual standard deviation of Apple stock \n",
    "\n",
    "d_returns['AAPL'].std() * np.sqrt(250)"
   ]
  },
  {
   "cell_type": "code",
   "execution_count": 36,
   "metadata": {},
   "outputs": [],
   "source": [
    "percent_var = str(round(port_variance, 4) * 100) + '%'\n",
    "percent_vols = str(round(port_volatility, 4) * 100) + '%'"
   ]
  },
  {
   "cell_type": "code",
   "execution_count": 37,
   "metadata": {},
   "outputs": [
    {
     "name": "stdout",
     "output_type": "stream",
     "text": [
      "Variance of Portfolio is 2.5700000000000003%, Portfolio Risk is 16.04%\n"
     ]
    }
   ],
   "source": [
    "print('Variance of Portfolio is {}, Portfolio Risk is {}'\n",
    "      .format(percent_var, percent_vols))"
   ]
  },
  {
   "cell_type": "markdown",
   "metadata": {},
   "source": [
    "### Assessing Risks and Return with Probabilities of Events with Python\n"
   ]
  },
  {
   "cell_type": "code",
   "execution_count": 39,
   "metadata": {},
   "outputs": [],
   "source": [
    "import numpy as np\n",
    "\n",
    "#store the variables in arrays\n",
    "prob = np.array([0.25, 0.5, 0.25])\n",
    "rate_1 = np.array([0.05, 0.075, 0.10])\n",
    "rate_2 = np.array([0.2, 0.15, 0.1])\n",
    "\n",
    "# expected return of each investment\n",
    "expected_return1 = np.sum(prob * rate_1)\n",
    "expected_return2 = np.sum(prob * rate_2)"
   ]
  },
  {
   "cell_type": "code",
   "execution_count": 40,
   "metadata": {},
   "outputs": [],
   "source": [
    "# expected return of the equally weighted portfolio\n",
    "weights = np.array([0.5, 0.5])\n",
    "individual_returns = np.array([rate_1, rate_2])\n",
    "portfolio_returns = np.dot(weights, individual_returns)"
   ]
  },
  {
   "cell_type": "code",
   "execution_count": 41,
   "metadata": {},
   "outputs": [],
   "source": [
    "# covariance matrix given probabilities\n",
    "cov_matrix = np.cov(rate_1, rate_2, ddof=0, aweights=prob)"
   ]
  },
  {
   "cell_type": "code",
   "execution_count": 42,
   "metadata": {},
   "outputs": [],
   "source": [
    "#  variance and standard deviation of each investment\n",
    "var1 = cov_matrix[0,0]  # variance of any asset is the covariance of its returns WITH its returns\n",
    "var2 = cov_matrix[1,1]  # variance of any asset is the covariance of its returns WITH its returns\n",
    "std1 = np.sqrt(var1)  # std deviation is simply the square root of the variance\n",
    "std2 = np.sqrt(var2)  # std deviation is simply the square root of the variance\n",
    "\n",
    "#  correlation between Asset 1 & 2's returns\n",
    "cov = cov_matrix[0,1]\n",
    "corr = cov / (std1 * std2)  # correlation of returns between 2 assets = covariance of their returns / (their std multiplied)\n",
    "\n",
    "#  variance of portfolio\n",
    "portfolio_var = np.dot(weights.T, np.dot(cov_matrix, weights))\n",
    "\n",
    "# standard deviation (volatility of the portfolio)\n",
    "portfolio_vols = np.sqrt(portfolio_var)"
   ]
  },
  {
   "cell_type": "code",
   "execution_count": 58,
   "metadata": {},
   "outputs": [
    {
     "name": "stdout",
     "output_type": "stream",
     "text": [
      "Expected Return of Investment 1 = 7.5%\n",
      "Expected Return of Investment 2 = 15.0%\n",
      "Expected Return of Portfolio = [12.5  11.25 10.  ]%\n",
      "Standard Deviation of Investment 1 = 1.768%\n",
      "Standard Deviation of Investment 1 = 3.536%\n",
      "Correlation between Returns of 1 & 2 = -1.0\n",
      "Risk of Portfilio = 0.884%\n"
     ]
    }
   ],
   "source": [
    "import math\n",
    "#  just a function that returns a percentile for a given float\n",
    "def percentage (number):\n",
    "    return str(np.around(number * 100, 3)) + '%'\n",
    "\n",
    "#  print the various variables for intepretation \n",
    "print('Expected Return of Investment 1 = {}'.format(percentage(expected_return1)))\n",
    "print('Expected Return of Investment 2 = {}'.format(percentage(expected_return2)))\n",
    "print('Expected Return of Portfolio = {}'.format(percentage(portfolio_returns)))\n",
    "print('Standard Deviation of Investment 1 = {}'.format(percentage(std1)))\n",
    "print('Standard Deviation of Investment 1 = {}'.format(percentage(std2)))\n",
    "print('Correlation between Returns of 1 & 2 = {}'.format(round(corr, 4)))\n",
    "print('Risk of Portfilio = {}'.format(percentage(portfolio_vols)))"
   ]
  },
  {
   "cell_type": "code",
   "execution_count": null,
   "metadata": {},
   "outputs": [],
   "source": []
  }
 ],
 "metadata": {
  "file_extension": ".py",
  "kernelspec": {
   "display_name": "Python 3.7.3 64-bit ('base': conda)",
   "language": "python",
   "name": "python37364bitbaseconda435c83b3752546a6ba720845c41f0401"
  },
  "language_info": {
   "codemirror_mode": {
    "name": "ipython",
    "version": 3
   },
   "file_extension": ".py",
   "mimetype": "text/x-python",
   "name": "python",
   "nbconvert_exporter": "python",
   "pygments_lexer": "ipython3",
   "version": "3.7.3"
  },
  "mimetype": "text/x-python",
  "name": "python",
  "npconvert_exporter": "python",
  "pygments_lexer": "ipython3",
  "version": 3
 },
 "nbformat": 4,
 "nbformat_minor": 2
}
